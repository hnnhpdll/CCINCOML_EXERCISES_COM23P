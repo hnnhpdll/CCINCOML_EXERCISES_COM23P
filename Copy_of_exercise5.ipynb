{
  "nbformat": 4,
  "nbformat_minor": 0,
  "metadata": {
    "colab": {
      "provenance": []
    },
    "kernelspec": {
      "name": "python3",
      "display_name": "Python 3"
    },
    "language_info": {
      "name": "python"
    }
  },
  "cells": [
    {
      "cell_type": "markdown",
      "source": [
        "# Exercise 5"
      ],
      "metadata": {
        "id": "2YKNSy_M9wSB"
      }
    },
    {
      "cell_type": "markdown",
      "source": [
        "1. Compute the average\n",
        "\n",
        "My electricity bills for the last three months have been 23, 32 and 64.\n",
        "\n",
        "- What is the average monthly electricity bill over the three month period?\n",
        "\n",
        "- Write an expression to calculate the mean, and use print() to view the result."
      ],
      "metadata": {
        "id": "AW0H1ylt3H9g"
      }
    },
    {
      "cell_type": "code",
      "execution_count": null,
      "metadata": {
        "id": "3a9CllzZ28_6",
        "outputId": "837afa76-0c78-4dbe-9696-af6fac6c3495",
        "colab": {
          "base_uri": "https://localhost:8080/"
        }
      },
      "outputs": [
        {
          "output_type": "stream",
          "name": "stdout",
          "text": [
            "39.666666666666664\n"
          ]
        }
      ],
      "source": [
        "# average electricity bill\n",
        "first_month = 23\n",
        "second_month = 32\n",
        "third_month = 64\n",
        "\n",
        "average = (first_month + second_month + third_month)/3\n",
        "print(average)\n"
      ]
    },
    {
      "cell_type": "markdown",
      "source": [
        "2. Create a condition\n",
        "\n",
        "The code below calculates the population densities of Rio de Janeiro and San Francisco.\n",
        "\n",
        "Write a code to compare these densities. Is the population of San Francisco more dense than that of Rio de Janeiro? Print True if it is and False if not."
      ],
      "metadata": {
        "id": "lDgi4WMA3UDM"
      }
    },
    {
      "cell_type": "code",
      "source": [
        "sf_population, sf_area = 864816, 231.89\n",
        "rio_population, rio_area = 6453682, 486.5\n",
        "\n",
        "san_francisco_pop_density = sf_population/sf_area\n",
        "rio_de_janeiro_pop_density = rio_population/rio_area\n",
        "\n",
        "# Write code that prints True if San Francisco is denser than Rio, and False otherwise\n",
        "sf_pop = 864816\n",
        "sf_area = 231.89\n",
        "rio_pop = 6453682\n",
        "rio_area = 486.5\n",
        "\n",
        "sf_pop_density = (sf_pop/sf_area)\n",
        "rio_pop_density = (rio_pop/rio_area)\n",
        "\n",
        "\n",
        "print (sf_pop_density > rio_pop_density and sf_pop_density == rio_pop_density )\n"
      ],
      "metadata": {
        "id": "-K4Umghk34X3",
        "outputId": "9d350257-30d6-43d9-f46d-5f76e088b42c",
        "colab": {
          "base_uri": "https://localhost:8080/"
        }
      },
      "execution_count": null,
      "outputs": [
        {
          "output_type": "stream",
          "name": "stdout",
          "text": [
            "False\n"
          ]
        }
      ]
    },
    {
      "cell_type": "markdown",
      "source": [
        "3. Fix the error\n",
        "\n",
        "The line of code below will cause a SyntaxError, thanks to the misuse of quotation marks.\n",
        "\n",
        "- First run it with Test Run to view the error message.\n",
        "- Then resolve the problem so that the quote (from Henry Ford(opens in a new tab)) is correctly assigned to the variable ford_quote."
      ],
      "metadata": {
        "id": "2sgJy-_C4N8b"
      }
    },
    {
      "cell_type": "code",
      "source": [
        "# TODO: Fix this string!\n",
        "ford_quote = 'Whether you think you can, or you think you can\\'t--you\\'re right.'"
      ],
      "metadata": {
        "id": "xARijZmm4bp2"
      },
      "execution_count": 1,
      "outputs": []
    },
    {
      "cell_type": "markdown",
      "source": [
        "4. Write a server log message\n",
        "\n",
        "You’ll be provided with example data for a user, the time of their visit and the site they accessed. You should use the variables provided and the techniques you’ve learned to print a log message like this one (with the username, url, and timestamp replaced with values from the appropriate variables):"
      ],
      "metadata": {
        "id": "wZBoOGlh4zf9"
      }
    },
    {
      "cell_type": "code",
      "source": [
        "username = \"Kinari\"\n",
        "timestamp = \"04:50.\"\n",
        "url = \"http://petshop.com/pets/mammals/cats\"\n",
        "\n",
        "# TODO: print a log message using the variables above.\n",
        "# The message should have the same format as this one:\n",
        "# \"Yogesh accessed the site http://petshop.com/pets/reptiles/pythons at 16:20.\"\n",
        "\n",
        "username = \"Kinari\"\n",
        "timestamp = \"04:50\"\n",
        "url = \"http://petshop.com/pets/mammals/cats\"\n",
        "\n",
        "print(username + ' accessed the site ' + url + ' at ' + timestamp )"
      ],
      "metadata": {
        "id": "0xoFuFFw48AX",
        "outputId": "ea68be9c-349a-488b-dbc6-7f797faa3547",
        "colab": {
          "base_uri": "https://localhost:8080/"
        }
      },
      "execution_count": null,
      "outputs": [
        {
          "output_type": "stream",
          "name": "stdout",
          "text": [
            "Kinari accessed the site http://petshop.com/pets/mammals/cats at 04:50\n"
          ]
        }
      ]
    },
    {
      "cell_type": "markdown",
      "source": [
        "5. Use string concatenation and the `len()` function to find the length of a certain movie star's actual full name. Store that length in the name_length variable. Don't forget that there are spaces in between the different parts of a name!"
      ],
      "metadata": {
        "id": "I0khhJta5eal"
      }
    },
    {
      "cell_type": "code",
      "source": [
        "given_name = \"William\"\n",
        "middle_names = \"Bradley\"\n",
        "family_name = \"Pitt\"\n",
        "\n",
        "name_length = len(given_name) + len(middle_names) + len(family_name)\n",
        "print(name_length)"
      ],
      "metadata": {
        "id": "zhNS8sDo5faD",
        "outputId": "c0fefc25-628a-4cb4-c781-f63e75bdf750",
        "colab": {
          "base_uri": "https://localhost:8080/"
        }
      },
      "execution_count": null,
      "outputs": [
        {
          "output_type": "stream",
          "name": "stdout",
          "text": [
            "18\n"
          ]
        }
      ]
    },
    {
      "cell_type": "markdown",
      "source": [
        "6. Type Conversion\n",
        "\n",
        "- You will need to change the types of the input and output data in order to get the result you want.\n",
        "\n",
        "- Calculate and print the total sales for the week from the data provided.\n",
        "\n",
        "- Print out a string of the form \"This week's total sales: xxx\", where xxx will be the actual total of all the numbers. You’ll need to change the type of the input data in order to calculate that total."
      ],
      "metadata": {
        "id": "8Tkd7nsi5v_5"
      }
    },
    {
      "cell_type": "code",
      "source": [
        "mon_sales = \"121\"\n",
        "tues_sales = \"105\"\n",
        "wed_sales = \"110\"\n",
        "thurs_sales = \"98\"\n",
        "fri_sales = \"95\"\n",
        "\n",
        "#TODO: Print a string with this format: This week's total sales: xxx\n",
        "# You will probably need to write some lines of code before the print statement.\n",
        "\n",
        "mon_sales = 121\n",
        "tues_sales = 105\n",
        "wed_sales = 110\n",
        "thurs_sales = 98\n",
        "fri_sales = 95\n",
        "\n",
        "total = (mon_sales + tues_sales + wed_sales + thurs_sales + fri_sales)\n",
        "\n",
        "\n",
        "print(\"This week's total sales: \" + str(total))\n"
      ],
      "metadata": {
        "id": "gNE_Md8954Dx",
        "outputId": "4413eae6-b08b-44be-8de9-c23d12f7796f",
        "colab": {
          "base_uri": "https://localhost:8080/"
        }
      },
      "execution_count": null,
      "outputs": [
        {
          "output_type": "stream",
          "name": "stdout",
          "text": [
            "This week's total sales: 529\n"
          ]
        }
      ]
    },
    {
      "cell_type": "markdown",
      "source": [
        "7. String methods\n",
        "\n",
        "Below, we have a string variable that contains the first verse of the poem, If by Rudyard Kipling(opens in a new tab)"
      ],
      "metadata": {
        "id": "6WXIVMFX6eNA"
      }
    },
    {
      "cell_type": "code",
      "source": [
        "verse = \"If you can keep your head when all about you\\n  Are losing theirs and blaming it on you,\\nIf you can trust yourself when all men doubt you,\\n  But make allowance for their doubting too;\\nIf you can wait and not be tired by waiting,\\n  Or being lied about, don’t deal in lies,\\nOr being hated, don’t give way to hating,\\n  And yet don’t look too good, nor talk too wise:\"\n",
        "print(verse)"
      ],
      "metadata": {
        "id": "4Kp9Vbxr6epE"
      },
      "execution_count": null,
      "outputs": []
    },
    {
      "cell_type": "markdown",
      "source": [
        "What is the length of the string variable verse?"
      ],
      "metadata": {
        "id": "HX5plsix7Ntd"
      }
    },
    {
      "cell_type": "code",
      "source": [
        "verse = \"If you can keep your head when all about you\\n  Are losing theirs and blaming it on you,\\nIf you can trust yourself when all men doubt you,\\n  But make allowance for their doubting too;\\nIf you can wait and not be tired by waiting,\\n  Or being lied about, don’t deal in lies,\\nOr being hated, don’t give way to hating,\\n  And yet don’t look too good, nor talk too wise:\"\n",
        "print(len(verse))"
      ],
      "metadata": {
        "id": "uMA2Y5rG7OFR",
        "outputId": "a088cbe4-a6ba-48dd-81a4-0e41a8d7ee4a",
        "colab": {
          "base_uri": "https://localhost:8080/"
        }
      },
      "execution_count": null,
      "outputs": [
        {
          "output_type": "stream",
          "name": "stdout",
          "text": [
            "362\n"
          ]
        }
      ]
    },
    {
      "cell_type": "markdown",
      "source": [
        "What is the count of occurrences of the word 'you' in the verse?"
      ],
      "metadata": {
        "id": "XvEqzG-r7GMG"
      }
    },
    {
      "cell_type": "code",
      "source": [
        "verse = \"If you can keep your head when all about you\\n  Are losing theirs and blaming it on you,\\nIf you can trust yourself when all men doubt you,\\n  But make allowance for their doubting too;\\nIf you can wait and not be tired by waiting,\\n  Or being lied about, don’t deal in lies,\\nOr being hated, don’t give way to hating,\\n  And yet don’t look too good, nor talk too wise:\"\n",
        "verse.count('you')"
      ],
      "metadata": {
        "id": "SWeEUevY7Fui",
        "outputId": "6ec8bfbe-9748-449b-efee-614d7d48f127",
        "colab": {
          "base_uri": "https://localhost:8080/"
        }
      },
      "execution_count": null,
      "outputs": [
        {
          "output_type": "execute_result",
          "data": {
            "text/plain": [
              "8"
            ]
          },
          "metadata": {},
          "execution_count": 64
        }
      ]
    },
    {
      "cell_type": "markdown",
      "source": [
        "What is the index of the first occurrence of the word 'head' in verse?"
      ],
      "metadata": {
        "id": "8Lvcl-0L7SmJ"
      }
    },
    {
      "cell_type": "code",
      "source": [
        "verse.index('head')"
      ],
      "metadata": {
        "id": "foPeKDud7SzQ",
        "outputId": "2670d312-0ff9-400f-b0c0-b224e87ce2a2",
        "colab": {
          "base_uri": "https://localhost:8080/"
        }
      },
      "execution_count": null,
      "outputs": [
        {
          "output_type": "execute_result",
          "data": {
            "text/plain": [
              "21"
            ]
          },
          "metadata": {},
          "execution_count": 67
        }
      ]
    },
    {
      "cell_type": "markdown",
      "source": [
        "8. Which Prize?\n",
        "\n",
        "- Write an if statement that lets a competitor know which of these prizes they won based on the number of points they scored, which is stored in the integer variable points.\n",
        "\n",
        "|   Points| Prize  |   \n",
        "|---|---|\n",
        "|  1 - 50  |  Candy |\n",
        "|  51 - 150 |  Chocolate |  \n",
        "|  151 - 200 | Sports Car  |   \n",
        "|  201 - 250 | Mansion  |  \n",
        "\n",
        "\n",
        " - In your if statement, assign the result variable to a string holding the appropriate message based on the value of points. If they've won a prize, the message should state \"Congratulations! You won a [prize name]!\" with the prize name. If there's no prize, the message should state \"Oh dear, no prize this time.\""
      ],
      "metadata": {
        "id": "b1uSYvN374nv"
      }
    },
    {
      "cell_type": "markdown",
      "source": [
        "PROVIDED 2 ANSWERS"
      ],
      "metadata": {
        "id": "2JPJq8j90wo-"
      }
    },
    {
      "cell_type": "code",
      "source": [
        "points = 0\n",
        "\n",
        "if 0 < points <= 50:\n",
        "    print(\"Congratulations! You have won a Candy\")\n",
        "elif 50 < points <= 150:\n",
        "    print(\"Congratulations! You have won a Chocolate\")\n",
        "elif 150 < points <= 200:\n",
        "    print(\"Congratulations! You have won a Sports Car\")\n",
        "elif 200 < points <=250:\n",
        "    print(\"Congratulations! You have won a Mansion\")\n",
        "else:\n",
        "  print(\"Oh dear, no prize this time\")"
      ],
      "metadata": {
        "id": "rTDH4N1x7436",
        "outputId": "2c7a14e1-b831-4e66-acc9-baaeb33f212f",
        "colab": {
          "base_uri": "https://localhost:8080/"
        }
      },
      "execution_count": null,
      "outputs": [
        {
          "output_type": "stream",
          "name": "stdout",
          "text": [
            "Oh dear, no prize this time\n"
          ]
        }
      ]
    },
    {
      "cell_type": "code",
      "source": [
        "points = 51\n",
        "\n",
        "if 0 < points <= 50:\n",
        "    candy = 'Candy'\n",
        "    print(\"Congratulations! You have won a \" + candy)\n",
        "elif 50 < points <= 150:\n",
        "    chocolate = 'Chocolate'\n",
        "    print(\"Congratulations! You have won a \" + chocolate)\n",
        "elif 150 < points <= 200:\n",
        "    sports_car = 'Sports Car'\n",
        "    print(\"Congratulations! You have won a \" + sports_car)\n",
        "elif 200 < points <=250:\n",
        "    mansion = 'Mansion'\n",
        "    print(\"Congratulations! You have won a \" + mansion)\n",
        "else:\n",
        "  print(\"Oh dear, no prize this time\")\n",
        "\n"
      ],
      "metadata": {
        "id": "833UnaBj0kwH"
      },
      "execution_count": null,
      "outputs": []
    },
    {
      "cell_type": "code",
      "source": [],
      "metadata": {
        "id": "C9aqk7-N0HEi"
      },
      "execution_count": null,
      "outputs": []
    },
    {
      "cell_type": "markdown",
      "source": [
        "9. Guess My Number\n",
        "\n",
        "- You decide you want to play a game where you are hiding a number from someone. Store this number in a variable called 'answer'. Another user provides a number called 'guess'. By comparing guess to answer, you inform the user if their guess is too high or too low.\n",
        "\n",
        "- Fill in the conditionals below to inform the user about how their guess compares to the answer."
      ],
      "metadata": {
        "id": "XdxTkPje9EUY"
      }
    },
    {
      "cell_type": "code",
      "source": [
        "answer = 21\n",
        "guess = 20\n",
        "if 0 <= guess <=20:\n",
        "    print(\"higher\")\n",
        "elif guess == answer:\n",
        "    print(\"You got it right!\")\n",
        "elif 21 < guess <= 100:\n",
        "    print(\"lower\")\n",
        "else:\n",
        "  print(\"Way too Far\")"
      ],
      "metadata": {
        "id": "tcsIibtJ9Eic",
        "outputId": "cfe4b27c-1287-4a2a-a145-7ea92575c14b",
        "colab": {
          "base_uri": "https://localhost:8080/"
        }
      },
      "execution_count": null,
      "outputs": [
        {
          "output_type": "stream",
          "name": "stdout",
          "text": [
            "higher\n"
          ]
        }
      ]
    }
  ]
}